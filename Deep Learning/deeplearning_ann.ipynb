{
  "nbformat": 4,
  "nbformat_minor": 0,
  "metadata": {
    "colab": {
      "name": "deeplearning-ann.ipynb",
      "provenance": [],
      "collapsed_sections": [],
      "toc_visible": true
    },
    "kernelspec": {
      "name": "python3",
      "display_name": "Python 3"
    }
  },
  "cells": [
    {
      "cell_type": "code",
      "metadata": {
        "id": "r4SaX96t8Ej1",
        "colab_type": "code",
        "outputId": "39562c42-cf46-4529-e259-7ed56259bc66",
        "colab": {
          "base_uri": "https://localhost:8080/",
          "height": 101
        }
      },
      "source": [
        "# Import Tensorflow 2.x\n",
        "try:\n",
        "  %tensorflow_version 1.14\n",
        "except Exception:\n",
        "  pass"
      ],
      "execution_count": 17,
      "outputs": [
        {
          "output_type": "stream",
          "text": [
            "`%tensorflow_version` only switches the major version: `1.x` or `2.x`.\n",
            "You set: `1.14`. This will be interpreted as: `1.x`.\n",
            "\n",
            "\n",
            "TensorFlow is already loaded. Please restart the runtime to change versions.\n"
          ],
          "name": "stdout"
        }
      ]
    },
    {
      "cell_type": "code",
      "metadata": {
        "id": "qF80vwXo8LuF",
        "colab_type": "code",
        "outputId": "dbf0360a-b7c9-43ba-ea12-ced21b0d13b4",
        "colab": {
          "base_uri": "https://localhost:8080/",
          "height": 34
        }
      },
      "source": [
        "import tensorflow as tf\n",
        "print(\"TF version:\", tf.__version__)"
      ],
      "execution_count": 18,
      "outputs": [
        {
          "output_type": "stream",
          "text": [
            "TF version: 1.15.0\n"
          ],
          "name": "stdout"
        }
      ]
    },
    {
      "cell_type": "code",
      "metadata": {
        "id": "izyDR4NM8SOJ",
        "colab_type": "code",
        "colab": {}
      },
      "source": [
        "import numpy as np\n",
        "import pandas as pd\n",
        "import matplotlib.pyplot as plt\n",
        "from sklearn.compose import ColumnTransformer"
      ],
      "execution_count": 0,
      "outputs": []
    },
    {
      "cell_type": "code",
      "metadata": {
        "id": "WwIpRNAL8a9Z",
        "colab_type": "code",
        "outputId": "993476ef-e778-411b-df32-a78f75ff8605",
        "colab": {
          "base_uri": "https://localhost:8080/",
          "height": 134
        }
      },
      "source": [
        "dataset = pd.read_csv('Churn_Modelling.csv')\n",
        "X = dataset.iloc[:, 3:13].values\n",
        "y = dataset.iloc[:, 13].values\n",
        "X"
      ],
      "execution_count": 20,
      "outputs": [
        {
          "output_type": "execute_result",
          "data": {
            "text/plain": [
              "array([[619, 'France', 'Female', ..., 1, 1, 101348.88],\n",
              "       [608, 'Spain', 'Female', ..., 0, 1, 112542.58],\n",
              "       [502, 'France', 'Female', ..., 1, 0, 113931.57],\n",
              "       ...,\n",
              "       [709, 'France', 'Female', ..., 0, 1, 42085.58],\n",
              "       [772, 'Germany', 'Male', ..., 1, 0, 92888.52],\n",
              "       [792, 'France', 'Female', ..., 1, 0, 38190.78]], dtype=object)"
            ]
          },
          "metadata": {
            "tags": []
          },
          "execution_count": 20
        }
      ]
    },
    {
      "cell_type": "code",
      "metadata": {
        "id": "eyO3zENT8eIE",
        "colab_type": "code",
        "outputId": "17e1135c-ad4e-4767-9fc0-13a925593dd8",
        "colab": {
          "base_uri": "https://localhost:8080/",
          "height": 134
        }
      },
      "source": [
        "from sklearn.preprocessing import LabelEncoder, OneHotEncoder\n",
        "\n",
        "# Converting Country to numbers\n",
        "labelencoder_X_1 = LabelEncoder()\n",
        "X[:, 1] = labelencoder_X_1.fit_transform(X[:, 1])\n",
        "# Converting Sex to numbers\n",
        "labelencoder_X_2 = LabelEncoder()\n",
        "X[:, 2] = labelencoder_X_1.fit_transform(X[:, 2])\n",
        "\n",
        "X"
      ],
      "execution_count": 21,
      "outputs": [
        {
          "output_type": "execute_result",
          "data": {
            "text/plain": [
              "array([[619, 0, 0, ..., 1, 1, 101348.88],\n",
              "       [608, 2, 0, ..., 0, 1, 112542.58],\n",
              "       [502, 0, 0, ..., 1, 0, 113931.57],\n",
              "       ...,\n",
              "       [709, 0, 0, ..., 0, 1, 42085.58],\n",
              "       [772, 1, 1, ..., 1, 0, 92888.52],\n",
              "       [792, 0, 0, ..., 1, 0, 38190.78]], dtype=object)"
            ]
          },
          "metadata": {
            "tags": []
          },
          "execution_count": 21
        }
      ]
    },
    {
      "cell_type": "code",
      "metadata": {
        "id": "kDNxzhyM8haM",
        "colab_type": "code",
        "colab": {}
      },
      "source": [
        "# Creating dummy variable for Countries\n",
        "ct = ColumnTransformer([(\"one_hot_encoder\",\n",
        "                         OneHotEncoder(),\n",
        "                         [1])],\n",
        "                        remainder=\"passthrough\")\n",
        "X = np.array(ct.fit_transform(X), dtype=np.float)\n",
        "\n",
        "# Escapling the dummy variale trap\n",
        "X = X[:, 1:]"
      ],
      "execution_count": 0,
      "outputs": []
    },
    {
      "cell_type": "code",
      "metadata": {
        "id": "PTxkli5n8jer",
        "colab_type": "code",
        "colab": {}
      },
      "source": [
        "# Splitting the dataset\n",
        "from sklearn.model_selection import train_test_split\n",
        "X_train, X_test, y_train, y_test = train_test_split(X, y, test_size = 0.2, random_state = 0)"
      ],
      "execution_count": 0,
      "outputs": []
    },
    {
      "cell_type": "code",
      "metadata": {
        "id": "3P3SbLif8lTz",
        "colab_type": "code",
        "colab": {}
      },
      "source": [
        "# Feature Scaling\n",
        "from sklearn.preprocessing import StandardScaler\n",
        "sc = StandardScaler()\n",
        "X_train = sc.fit_transform(X_train)\n",
        "X_test = sc.fit_transform(X_test)"
      ],
      "execution_count": 0,
      "outputs": []
    },
    {
      "cell_type": "code",
      "metadata": {
        "id": "fwjfQYxm8qTN",
        "colab_type": "code",
        "colab": {}
      },
      "source": [
        "# Import Keras Library\n",
        "import keras"
      ],
      "execution_count": 0,
      "outputs": []
    },
    {
      "cell_type": "code",
      "metadata": {
        "id": "o9JOzVF08sR4",
        "colab_type": "code",
        "colab": {}
      },
      "source": [
        "from keras.models import Sequential\n",
        "from keras.layers import Dense"
      ],
      "execution_count": 0,
      "outputs": []
    },
    {
      "cell_type": "code",
      "metadata": {
        "id": "2ddSAQT08wQr",
        "colab_type": "code",
        "colab": {}
      },
      "source": [
        "# Initializing ANN\n",
        "classifier = Sequential()"
      ],
      "execution_count": 0,
      "outputs": []
    },
    {
      "cell_type": "code",
      "metadata": {
        "id": "WYohhHoBGGP-",
        "colab_type": "code",
        "colab": {
          "base_uri": "https://localhost:8080/",
          "height": 138
        },
        "outputId": "caf500b9-e4bd-4eea-fbe2-e383b3abe6c1"
      },
      "source": [
        "# Adding input layer and the first hidden layer\n",
        "classifier.add(Dense(output_dim = 6, init = 'uniform', activation = 'relu', input_dim = 11)) "
      ],
      "execution_count": 28,
      "outputs": [
        {
          "output_type": "stream",
          "text": [
            "WARNING:tensorflow:From /usr/local/lib/python3.6/dist-packages/keras/backend/tensorflow_backend.py:541: The name tf.placeholder is deprecated. Please use tf.compat.v1.placeholder instead.\n",
            "\n",
            "WARNING:tensorflow:From /usr/local/lib/python3.6/dist-packages/keras/backend/tensorflow_backend.py:4432: The name tf.random_uniform is deprecated. Please use tf.random.uniform instead.\n",
            "\n"
          ],
          "name": "stdout"
        },
        {
          "output_type": "stream",
          "text": [
            "/usr/local/lib/python3.6/dist-packages/ipykernel_launcher.py:1: UserWarning: Update your `Dense` call to the Keras 2 API: `Dense(activation=\"relu\", input_dim=11, units=6, kernel_initializer=\"uniform\")`\n",
            "  \"\"\"Entry point for launching an IPython kernel.\n"
          ],
          "name": "stderr"
        }
      ]
    },
    {
      "cell_type": "code",
      "metadata": {
        "id": "1h3YFSYgIebM",
        "colab_type": "code",
        "colab": {
          "base_uri": "https://localhost:8080/",
          "height": 70
        },
        "outputId": "92d09617-a794-4629-f62d-a77c4bbf880f"
      },
      "source": [
        "# Adding the second hidden layer\n",
        "classifier.add(Dense(output_dim = 6, init = 'uniform', activation = 'relu'))"
      ],
      "execution_count": 29,
      "outputs": [
        {
          "output_type": "stream",
          "text": [
            "/usr/local/lib/python3.6/dist-packages/ipykernel_launcher.py:1: UserWarning: Update your `Dense` call to the Keras 2 API: `Dense(activation=\"relu\", units=6, kernel_initializer=\"uniform\")`\n",
            "  \"\"\"Entry point for launching an IPython kernel.\n"
          ],
          "name": "stderr"
        }
      ]
    },
    {
      "cell_type": "code",
      "metadata": {
        "id": "OKc7UodZL4tr",
        "colab_type": "code",
        "colab": {
          "base_uri": "https://localhost:8080/",
          "height": 70
        },
        "outputId": "280c4e9e-288a-4483-908c-443ace376b08"
      },
      "source": [
        "# Adding the output layer\n",
        "classifier.add(Dense(output_dim = 1, init = 'uniform', activation = 'sigmoid'))"
      ],
      "execution_count": 30,
      "outputs": [
        {
          "output_type": "stream",
          "text": [
            "/usr/local/lib/python3.6/dist-packages/ipykernel_launcher.py:1: UserWarning: Update your `Dense` call to the Keras 2 API: `Dense(activation=\"sigmoid\", units=1, kernel_initializer=\"uniform\")`\n",
            "  \"\"\"Entry point for launching an IPython kernel.\n"
          ],
          "name": "stderr"
        }
      ]
    },
    {
      "cell_type": "code",
      "metadata": {
        "id": "h1YdiOiwL8OC",
        "colab_type": "code",
        "colab": {
          "base_uri": "https://localhost:8080/",
          "height": 154
        },
        "outputId": "816b1481-eff6-4856-8b6b-33d2472d091c"
      },
      "source": [
        "# Compiling the ANN\n",
        "classifier.compile(optimizer = 'adam', loss = 'binary_crossentropy', metrics = ['accuracy'])"
      ],
      "execution_count": 31,
      "outputs": [
        {
          "output_type": "stream",
          "text": [
            "WARNING:tensorflow:From /usr/local/lib/python3.6/dist-packages/keras/optimizers.py:793: The name tf.train.Optimizer is deprecated. Please use tf.compat.v1.train.Optimizer instead.\n",
            "\n",
            "WARNING:tensorflow:From /usr/local/lib/python3.6/dist-packages/keras/backend/tensorflow_backend.py:3657: The name tf.log is deprecated. Please use tf.math.log instead.\n",
            "\n",
            "WARNING:tensorflow:From /usr/local/lib/python3.6/dist-packages/tensorflow_core/python/ops/nn_impl.py:183: where (from tensorflow.python.ops.array_ops) is deprecated and will be removed in a future version.\n",
            "Instructions for updating:\n",
            "Use tf.where in 2.0, which has the same broadcast rule as np.where\n"
          ],
          "name": "stdout"
        }
      ]
    },
    {
      "cell_type": "code",
      "metadata": {
        "id": "UukEXBXAL-rJ",
        "colab_type": "code",
        "colab": {
          "base_uri": "https://localhost:8080/",
          "height": 1000
        },
        "outputId": "d85a2e05-57dd-4546-a352-978f3bfc35ad"
      },
      "source": [
        "# Fitting the ANN to the Training set\n",
        "classifier.fit(X_train, y_train, batch_size = 10, nb_epoch = 100)"
      ],
      "execution_count": 32,
      "outputs": [
        {
          "output_type": "stream",
          "text": [
            "WARNING:tensorflow:From /usr/local/lib/python3.6/dist-packages/keras/backend/tensorflow_backend.py:1033: The name tf.assign_add is deprecated. Please use tf.compat.v1.assign_add instead.\n",
            "\n"
          ],
          "name": "stdout"
        },
        {
          "output_type": "stream",
          "text": [
            "/usr/local/lib/python3.6/dist-packages/ipykernel_launcher.py:1: UserWarning: The `nb_epoch` argument in `fit` has been renamed `epochs`.\n",
            "  \"\"\"Entry point for launching an IPython kernel.\n"
          ],
          "name": "stderr"
        },
        {
          "output_type": "stream",
          "text": [
            "WARNING:tensorflow:From /usr/local/lib/python3.6/dist-packages/keras/backend/tensorflow_backend.py:1020: The name tf.assign is deprecated. Please use tf.compat.v1.assign instead.\n",
            "\n",
            "WARNING:tensorflow:From /usr/local/lib/python3.6/dist-packages/keras/backend/tensorflow_backend.py:3005: The name tf.Session is deprecated. Please use tf.compat.v1.Session instead.\n",
            "\n",
            "Epoch 1/100\n",
            "WARNING:tensorflow:From /usr/local/lib/python3.6/dist-packages/keras/backend/tensorflow_backend.py:190: The name tf.get_default_session is deprecated. Please use tf.compat.v1.get_default_session instead.\n",
            "\n",
            "WARNING:tensorflow:From /usr/local/lib/python3.6/dist-packages/keras/backend/tensorflow_backend.py:197: The name tf.ConfigProto is deprecated. Please use tf.compat.v1.ConfigProto instead.\n",
            "\n",
            "WARNING:tensorflow:From /usr/local/lib/python3.6/dist-packages/keras/backend/tensorflow_backend.py:207: The name tf.global_variables is deprecated. Please use tf.compat.v1.global_variables instead.\n",
            "\n",
            "WARNING:tensorflow:From /usr/local/lib/python3.6/dist-packages/keras/backend/tensorflow_backend.py:216: The name tf.is_variable_initialized is deprecated. Please use tf.compat.v1.is_variable_initialized instead.\n",
            "\n",
            "WARNING:tensorflow:From /usr/local/lib/python3.6/dist-packages/keras/backend/tensorflow_backend.py:223: The name tf.variables_initializer is deprecated. Please use tf.compat.v1.variables_initializer instead.\n",
            "\n",
            "8000/8000 [==============================] - 2s 199us/step - loss: 0.4906 - acc: 0.7955\n",
            "Epoch 2/100\n",
            "8000/8000 [==============================] - 1s 119us/step - loss: 0.4293 - acc: 0.7960\n",
            "Epoch 3/100\n",
            "8000/8000 [==============================] - 1s 128us/step - loss: 0.4252 - acc: 0.7960\n",
            "Epoch 4/100\n",
            "8000/8000 [==============================] - 1s 126us/step - loss: 0.4206 - acc: 0.7995\n",
            "Epoch 5/100\n",
            "8000/8000 [==============================] - 1s 128us/step - loss: 0.4172 - acc: 0.8244\n",
            "Epoch 6/100\n",
            "8000/8000 [==============================] - 1s 126us/step - loss: 0.4153 - acc: 0.8281\n",
            "Epoch 7/100\n",
            "8000/8000 [==============================] - 1s 133us/step - loss: 0.4135 - acc: 0.8301\n",
            "Epoch 8/100\n",
            "8000/8000 [==============================] - 1s 133us/step - loss: 0.4122 - acc: 0.8315\n",
            "Epoch 9/100\n",
            "8000/8000 [==============================] - 1s 127us/step - loss: 0.4110 - acc: 0.8321\n",
            "Epoch 10/100\n",
            "8000/8000 [==============================] - 1s 134us/step - loss: 0.4102 - acc: 0.8327\n",
            "Epoch 11/100\n",
            "8000/8000 [==============================] - 1s 132us/step - loss: 0.4091 - acc: 0.8335\n",
            "Epoch 12/100\n",
            "8000/8000 [==============================] - 1s 132us/step - loss: 0.4085 - acc: 0.8345\n",
            "Epoch 13/100\n",
            "8000/8000 [==============================] - 1s 131us/step - loss: 0.4077 - acc: 0.8344\n",
            "Epoch 14/100\n",
            "8000/8000 [==============================] - 1s 130us/step - loss: 0.4070 - acc: 0.8326\n",
            "Epoch 15/100\n",
            "8000/8000 [==============================] - 1s 131us/step - loss: 0.4067 - acc: 0.8356\n",
            "Epoch 16/100\n",
            "8000/8000 [==============================] - 1s 136us/step - loss: 0.4058 - acc: 0.8337\n",
            "Epoch 17/100\n",
            "8000/8000 [==============================] - 1s 134us/step - loss: 0.4056 - acc: 0.8342\n",
            "Epoch 18/100\n",
            "8000/8000 [==============================] - 1s 138us/step - loss: 0.4054 - acc: 0.8340\n",
            "Epoch 19/100\n",
            "8000/8000 [==============================] - 1s 134us/step - loss: 0.4046 - acc: 0.8357\n",
            "Epoch 20/100\n",
            "8000/8000 [==============================] - 1s 132us/step - loss: 0.4045 - acc: 0.8345\n",
            "Epoch 21/100\n",
            "8000/8000 [==============================] - 1s 136us/step - loss: 0.4041 - acc: 0.8336\n",
            "Epoch 22/100\n",
            "8000/8000 [==============================] - 1s 135us/step - loss: 0.4038 - acc: 0.8329\n",
            "Epoch 23/100\n",
            "8000/8000 [==============================] - 1s 137us/step - loss: 0.4037 - acc: 0.8346\n",
            "Epoch 24/100\n",
            "8000/8000 [==============================] - 1s 136us/step - loss: 0.4035 - acc: 0.8346\n",
            "Epoch 25/100\n",
            "8000/8000 [==============================] - 1s 128us/step - loss: 0.4030 - acc: 0.8352\n",
            "Epoch 26/100\n",
            "8000/8000 [==============================] - 1s 137us/step - loss: 0.4028 - acc: 0.8342\n",
            "Epoch 27/100\n",
            "8000/8000 [==============================] - 1s 131us/step - loss: 0.4024 - acc: 0.8349\n",
            "Epoch 28/100\n",
            "8000/8000 [==============================] - 1s 132us/step - loss: 0.4026 - acc: 0.8350\n",
            "Epoch 29/100\n",
            "8000/8000 [==============================] - 1s 130us/step - loss: 0.4024 - acc: 0.8350\n",
            "Epoch 30/100\n",
            "8000/8000 [==============================] - 1s 135us/step - loss: 0.4025 - acc: 0.8342\n",
            "Epoch 31/100\n",
            "8000/8000 [==============================] - 1s 136us/step - loss: 0.4019 - acc: 0.8351\n",
            "Epoch 32/100\n",
            "8000/8000 [==============================] - 1s 125us/step - loss: 0.4020 - acc: 0.8344\n",
            "Epoch 33/100\n",
            "8000/8000 [==============================] - 1s 124us/step - loss: 0.4018 - acc: 0.8351\n",
            "Epoch 34/100\n",
            "8000/8000 [==============================] - 1s 126us/step - loss: 0.4018 - acc: 0.8360\n",
            "Epoch 35/100\n",
            "8000/8000 [==============================] - 1s 137us/step - loss: 0.4017 - acc: 0.8347\n",
            "Epoch 36/100\n",
            "8000/8000 [==============================] - 1s 136us/step - loss: 0.4011 - acc: 0.8359\n",
            "Epoch 37/100\n",
            "8000/8000 [==============================] - 1s 133us/step - loss: 0.4013 - acc: 0.8349\n",
            "Epoch 38/100\n",
            "8000/8000 [==============================] - 1s 135us/step - loss: 0.4014 - acc: 0.8356\n",
            "Epoch 39/100\n",
            "8000/8000 [==============================] - 1s 138us/step - loss: 0.4015 - acc: 0.8354\n",
            "Epoch 40/100\n",
            "8000/8000 [==============================] - 1s 134us/step - loss: 0.4008 - acc: 0.8360\n",
            "Epoch 41/100\n",
            "8000/8000 [==============================] - 1s 128us/step - loss: 0.4008 - acc: 0.8357\n",
            "Epoch 42/100\n",
            "8000/8000 [==============================] - 1s 125us/step - loss: 0.4009 - acc: 0.8344\n",
            "Epoch 43/100\n",
            "8000/8000 [==============================] - 1s 131us/step - loss: 0.4010 - acc: 0.8351\n",
            "Epoch 44/100\n",
            "8000/8000 [==============================] - 1s 132us/step - loss: 0.4006 - acc: 0.8337\n",
            "Epoch 45/100\n",
            "8000/8000 [==============================] - 1s 131us/step - loss: 0.4008 - acc: 0.8345\n",
            "Epoch 46/100\n",
            "8000/8000 [==============================] - 1s 128us/step - loss: 0.4009 - acc: 0.8341\n",
            "Epoch 47/100\n",
            "8000/8000 [==============================] - 1s 135us/step - loss: 0.4009 - acc: 0.8340\n",
            "Epoch 48/100\n",
            "8000/8000 [==============================] - 1s 134us/step - loss: 0.4008 - acc: 0.8344\n",
            "Epoch 49/100\n",
            "8000/8000 [==============================] - 1s 132us/step - loss: 0.4007 - acc: 0.8356\n",
            "Epoch 50/100\n",
            "8000/8000 [==============================] - 1s 128us/step - loss: 0.4004 - acc: 0.8365\n",
            "Epoch 51/100\n",
            "8000/8000 [==============================] - 1s 128us/step - loss: 0.4004 - acc: 0.8354\n",
            "Epoch 52/100\n",
            "8000/8000 [==============================] - 1s 125us/step - loss: 0.4002 - acc: 0.8346\n",
            "Epoch 53/100\n",
            "8000/8000 [==============================] - 1s 118us/step - loss: 0.4004 - acc: 0.8369\n",
            "Epoch 54/100\n",
            "8000/8000 [==============================] - 1s 135us/step - loss: 0.4005 - acc: 0.8351\n",
            "Epoch 55/100\n",
            "8000/8000 [==============================] - 1s 136us/step - loss: 0.4001 - acc: 0.8361\n",
            "Epoch 56/100\n",
            "8000/8000 [==============================] - 1s 129us/step - loss: 0.4001 - acc: 0.8347\n",
            "Epoch 57/100\n",
            "8000/8000 [==============================] - 1s 138us/step - loss: 0.4001 - acc: 0.8352\n",
            "Epoch 58/100\n",
            "8000/8000 [==============================] - 1s 134us/step - loss: 0.4001 - acc: 0.8355\n",
            "Epoch 59/100\n",
            "8000/8000 [==============================] - 1s 125us/step - loss: 0.4000 - acc: 0.8357\n",
            "Epoch 60/100\n",
            "8000/8000 [==============================] - 1s 139us/step - loss: 0.4005 - acc: 0.8347\n",
            "Epoch 61/100\n",
            "8000/8000 [==============================] - 1s 131us/step - loss: 0.4002 - acc: 0.8357\n",
            "Epoch 62/100\n",
            "8000/8000 [==============================] - 1s 134us/step - loss: 0.4002 - acc: 0.8352\n",
            "Epoch 63/100\n",
            "8000/8000 [==============================] - 1s 135us/step - loss: 0.4004 - acc: 0.8344\n",
            "Epoch 64/100\n",
            "8000/8000 [==============================] - 1s 135us/step - loss: 0.4004 - acc: 0.8347\n",
            "Epoch 65/100\n",
            "8000/8000 [==============================] - 1s 136us/step - loss: 0.4002 - acc: 0.8362\n",
            "Epoch 66/100\n",
            "8000/8000 [==============================] - 1s 136us/step - loss: 0.3997 - acc: 0.8335\n",
            "Epoch 67/100\n",
            "8000/8000 [==============================] - 1s 135us/step - loss: 0.4001 - acc: 0.8340\n",
            "Epoch 68/100\n",
            "8000/8000 [==============================] - 1s 136us/step - loss: 0.4003 - acc: 0.8350\n",
            "Epoch 69/100\n",
            "8000/8000 [==============================] - 1s 138us/step - loss: 0.3998 - acc: 0.8356\n",
            "Epoch 70/100\n",
            "8000/8000 [==============================] - 1s 137us/step - loss: 0.3996 - acc: 0.8364\n",
            "Epoch 71/100\n",
            "8000/8000 [==============================] - 1s 131us/step - loss: 0.4001 - acc: 0.8366\n",
            "Epoch 72/100\n",
            "8000/8000 [==============================] - 1s 134us/step - loss: 0.4000 - acc: 0.8350\n",
            "Epoch 73/100\n",
            "8000/8000 [==============================] - 1s 136us/step - loss: 0.3998 - acc: 0.8349\n",
            "Epoch 74/100\n",
            "8000/8000 [==============================] - 1s 136us/step - loss: 0.4000 - acc: 0.8364\n",
            "Epoch 75/100\n",
            "8000/8000 [==============================] - 1s 135us/step - loss: 0.3999 - acc: 0.8336\n",
            "Epoch 76/100\n",
            "8000/8000 [==============================] - 1s 121us/step - loss: 0.3996 - acc: 0.8342\n",
            "Epoch 77/100\n",
            "8000/8000 [==============================] - 1s 134us/step - loss: 0.4000 - acc: 0.8367\n",
            "Epoch 78/100\n",
            "8000/8000 [==============================] - 1s 136us/step - loss: 0.3996 - acc: 0.8335\n",
            "Epoch 79/100\n",
            "8000/8000 [==============================] - 1s 137us/step - loss: 0.3996 - acc: 0.8364\n",
            "Epoch 80/100\n",
            "8000/8000 [==============================] - 1s 136us/step - loss: 0.3997 - acc: 0.8362\n",
            "Epoch 81/100\n",
            "8000/8000 [==============================] - 1s 129us/step - loss: 0.4002 - acc: 0.8366\n",
            "Epoch 82/100\n",
            "8000/8000 [==============================] - 1s 137us/step - loss: 0.3996 - acc: 0.8369\n",
            "Epoch 83/100\n",
            "8000/8000 [==============================] - 1s 133us/step - loss: 0.3999 - acc: 0.8350\n",
            "Epoch 84/100\n",
            "8000/8000 [==============================] - 1s 122us/step - loss: 0.4003 - acc: 0.8344\n",
            "Epoch 85/100\n",
            "8000/8000 [==============================] - 1s 127us/step - loss: 0.3993 - acc: 0.8357\n",
            "Epoch 86/100\n",
            "8000/8000 [==============================] - 1s 133us/step - loss: 0.4003 - acc: 0.8350\n",
            "Epoch 87/100\n",
            "8000/8000 [==============================] - 1s 137us/step - loss: 0.3998 - acc: 0.8346\n",
            "Epoch 88/100\n",
            "8000/8000 [==============================] - 1s 136us/step - loss: 0.3997 - acc: 0.8355\n",
            "Epoch 89/100\n",
            "8000/8000 [==============================] - 1s 131us/step - loss: 0.3998 - acc: 0.8365\n",
            "Epoch 90/100\n",
            "8000/8000 [==============================] - 1s 129us/step - loss: 0.3994 - acc: 0.8357\n",
            "Epoch 91/100\n",
            "8000/8000 [==============================] - 1s 135us/step - loss: 0.3998 - acc: 0.8344\n",
            "Epoch 92/100\n",
            "8000/8000 [==============================] - 1s 132us/step - loss: 0.3998 - acc: 0.8342\n",
            "Epoch 93/100\n",
            "8000/8000 [==============================] - 1s 135us/step - loss: 0.3997 - acc: 0.8359\n",
            "Epoch 94/100\n",
            "8000/8000 [==============================] - 1s 118us/step - loss: 0.3994 - acc: 0.8345\n",
            "Epoch 95/100\n",
            "8000/8000 [==============================] - 1s 131us/step - loss: 0.3995 - acc: 0.8327\n",
            "Epoch 96/100\n",
            "8000/8000 [==============================] - 1s 137us/step - loss: 0.3998 - acc: 0.8342\n",
            "Epoch 97/100\n",
            "8000/8000 [==============================] - 1s 132us/step - loss: 0.3998 - acc: 0.8355\n",
            "Epoch 98/100\n",
            "8000/8000 [==============================] - 1s 131us/step - loss: 0.3993 - acc: 0.8370\n",
            "Epoch 99/100\n",
            "8000/8000 [==============================] - 1s 128us/step - loss: 0.3994 - acc: 0.8349\n",
            "Epoch 100/100\n",
            "8000/8000 [==============================] - 1s 136us/step - loss: 0.4000 - acc: 0.8345\n"
          ],
          "name": "stdout"
        },
        {
          "output_type": "execute_result",
          "data": {
            "text/plain": [
              "<keras.callbacks.History at 0x7fe740c4d7b8>"
            ]
          },
          "metadata": {
            "tags": []
          },
          "execution_count": 32
        }
      ]
    },
    {
      "cell_type": "code",
      "metadata": {
        "id": "xVDg5BOBMBuE",
        "colab_type": "code",
        "colab": {
          "base_uri": "https://localhost:8080/",
          "height": 1000
        },
        "outputId": "d6a87d65-f79d-4c24-bfda-dfb37d9496c6"
      },
      "source": [
        "# Fitting the ANN to the Training set\n",
        "classifier.fit(X_train, y_train, batch_size = 10, nb_epoch = 100)"
      ],
      "execution_count": 33,
      "outputs": [
        {
          "output_type": "stream",
          "text": [
            "Epoch 1/100\n",
            "1030/8000 [==>...........................] - ETA: 1s - loss: 0.4085 - acc: 0.8272"
          ],
          "name": "stdout"
        },
        {
          "output_type": "stream",
          "text": [
            "/usr/local/lib/python3.6/dist-packages/ipykernel_launcher.py:1: UserWarning: The `nb_epoch` argument in `fit` has been renamed `epochs`.\n",
            "  \"\"\"Entry point for launching an IPython kernel.\n"
          ],
          "name": "stderr"
        },
        {
          "output_type": "stream",
          "text": [
            "8000/8000 [==============================] - 1s 137us/step - loss: 0.3993 - acc: 0.8339\n",
            "Epoch 2/100\n",
            "8000/8000 [==============================] - 1s 126us/step - loss: 0.3994 - acc: 0.8334\n",
            "Epoch 3/100\n",
            "8000/8000 [==============================] - 1s 118us/step - loss: 0.3997 - acc: 0.8350\n",
            "Epoch 4/100\n",
            "8000/8000 [==============================] - 1s 132us/step - loss: 0.3994 - acc: 0.8330\n",
            "Epoch 5/100\n",
            "8000/8000 [==============================] - 1s 136us/step - loss: 0.3999 - acc: 0.8357\n",
            "Epoch 6/100\n",
            "8000/8000 [==============================] - 1s 137us/step - loss: 0.3997 - acc: 0.8347\n",
            "Epoch 7/100\n",
            "8000/8000 [==============================] - 1s 129us/step - loss: 0.3996 - acc: 0.8359\n",
            "Epoch 8/100\n",
            "8000/8000 [==============================] - 1s 136us/step - loss: 0.3995 - acc: 0.8356\n",
            "Epoch 9/100\n",
            "8000/8000 [==============================] - 1s 136us/step - loss: 0.3996 - acc: 0.8347\n",
            "Epoch 10/100\n",
            "8000/8000 [==============================] - 1s 132us/step - loss: 0.4000 - acc: 0.8349\n",
            "Epoch 11/100\n",
            "8000/8000 [==============================] - 1s 126us/step - loss: 0.3999 - acc: 0.8359\n",
            "Epoch 12/100\n",
            "8000/8000 [==============================] - 1s 133us/step - loss: 0.3995 - acc: 0.8360\n",
            "Epoch 13/100\n",
            "8000/8000 [==============================] - 1s 137us/step - loss: 0.3996 - acc: 0.8346\n",
            "Epoch 14/100\n",
            "8000/8000 [==============================] - 1s 132us/step - loss: 0.3996 - acc: 0.8359\n",
            "Epoch 15/100\n",
            "8000/8000 [==============================] - 1s 128us/step - loss: 0.3997 - acc: 0.8349\n",
            "Epoch 16/100\n",
            "8000/8000 [==============================] - 1s 128us/step - loss: 0.3995 - acc: 0.8346\n",
            "Epoch 17/100\n",
            "8000/8000 [==============================] - 1s 135us/step - loss: 0.3995 - acc: 0.8335\n",
            "Epoch 18/100\n",
            "8000/8000 [==============================] - 1s 136us/step - loss: 0.3995 - acc: 0.8369\n",
            "Epoch 19/100\n",
            "8000/8000 [==============================] - 1s 137us/step - loss: 0.3997 - acc: 0.8341\n",
            "Epoch 20/100\n",
            "8000/8000 [==============================] - 1s 130us/step - loss: 0.3997 - acc: 0.8352\n",
            "Epoch 21/100\n",
            "8000/8000 [==============================] - 1s 120us/step - loss: 0.3996 - acc: 0.8349\n",
            "Epoch 22/100\n",
            "8000/8000 [==============================] - 1s 132us/step - loss: 0.3995 - acc: 0.8359\n",
            "Epoch 23/100\n",
            "8000/8000 [==============================] - 1s 118us/step - loss: 0.3992 - acc: 0.8352\n",
            "Epoch 24/100\n",
            "8000/8000 [==============================] - 1s 134us/step - loss: 0.3994 - acc: 0.8354\n",
            "Epoch 25/100\n",
            "8000/8000 [==============================] - 1s 132us/step - loss: 0.3992 - acc: 0.8346\n",
            "Epoch 26/100\n",
            "8000/8000 [==============================] - 1s 133us/step - loss: 0.3994 - acc: 0.8352\n",
            "Epoch 27/100\n",
            "8000/8000 [==============================] - 1s 136us/step - loss: 0.3997 - acc: 0.8351\n",
            "Epoch 28/100\n",
            "8000/8000 [==============================] - 1s 136us/step - loss: 0.3997 - acc: 0.8340\n",
            "Epoch 29/100\n",
            "8000/8000 [==============================] - 1s 132us/step - loss: 0.3997 - acc: 0.8341\n",
            "Epoch 30/100\n",
            "8000/8000 [==============================] - 1s 140us/step - loss: 0.3993 - acc: 0.8340\n",
            "Epoch 31/100\n",
            "8000/8000 [==============================] - 1s 134us/step - loss: 0.3994 - acc: 0.8350\n",
            "Epoch 32/100\n",
            "8000/8000 [==============================] - 1s 137us/step - loss: 0.3995 - acc: 0.8341\n",
            "Epoch 33/100\n",
            "8000/8000 [==============================] - 1s 137us/step - loss: 0.3990 - acc: 0.8337\n",
            "Epoch 34/100\n",
            "8000/8000 [==============================] - 1s 136us/step - loss: 0.3996 - acc: 0.8354\n",
            "Epoch 35/100\n",
            "8000/8000 [==============================] - 1s 135us/step - loss: 0.3993 - acc: 0.8345\n",
            "Epoch 36/100\n",
            "8000/8000 [==============================] - 1s 136us/step - loss: 0.3994 - acc: 0.8351\n",
            "Epoch 37/100\n",
            "8000/8000 [==============================] - 1s 137us/step - loss: 0.3991 - acc: 0.8361\n",
            "Epoch 38/100\n",
            "8000/8000 [==============================] - 1s 137us/step - loss: 0.3992 - acc: 0.8350\n",
            "Epoch 39/100\n",
            "8000/8000 [==============================] - 1s 139us/step - loss: 0.3995 - acc: 0.8351\n",
            "Epoch 40/100\n",
            "8000/8000 [==============================] - 1s 136us/step - loss: 0.3993 - acc: 0.8354\n",
            "Epoch 41/100\n",
            "8000/8000 [==============================] - 1s 134us/step - loss: 0.3993 - acc: 0.8355\n",
            "Epoch 42/100\n",
            "8000/8000 [==============================] - 1s 140us/step - loss: 0.3995 - acc: 0.8349\n",
            "Epoch 43/100\n",
            "8000/8000 [==============================] - 1s 135us/step - loss: 0.3995 - acc: 0.8354\n",
            "Epoch 44/100\n",
            "8000/8000 [==============================] - 1s 133us/step - loss: 0.3993 - acc: 0.8336\n",
            "Epoch 45/100\n",
            "8000/8000 [==============================] - 1s 130us/step - loss: 0.3993 - acc: 0.8354\n",
            "Epoch 46/100\n",
            "8000/8000 [==============================] - 1s 125us/step - loss: 0.3990 - acc: 0.8352\n",
            "Epoch 47/100\n",
            "8000/8000 [==============================] - 1s 135us/step - loss: 0.3989 - acc: 0.8356\n",
            "Epoch 48/100\n",
            "8000/8000 [==============================] - 1s 137us/step - loss: 0.3996 - acc: 0.8350\n",
            "Epoch 49/100\n",
            "8000/8000 [==============================] - 1s 138us/step - loss: 0.3993 - acc: 0.8357\n",
            "Epoch 50/100\n",
            "8000/8000 [==============================] - 1s 135us/step - loss: 0.3995 - acc: 0.8350\n",
            "Epoch 51/100\n",
            "8000/8000 [==============================] - 1s 134us/step - loss: 0.3992 - acc: 0.8354\n",
            "Epoch 52/100\n",
            "8000/8000 [==============================] - 1s 135us/step - loss: 0.3995 - acc: 0.8352\n",
            "Epoch 53/100\n",
            "8000/8000 [==============================] - 1s 131us/step - loss: 0.3994 - acc: 0.8351\n",
            "Epoch 54/100\n",
            "8000/8000 [==============================] - 1s 136us/step - loss: 0.3994 - acc: 0.8342\n",
            "Epoch 55/100\n",
            "8000/8000 [==============================] - 1s 126us/step - loss: 0.3991 - acc: 0.8344\n",
            "Epoch 56/100\n",
            "8000/8000 [==============================] - 1s 123us/step - loss: 0.3992 - acc: 0.8360\n",
            "Epoch 57/100\n",
            "8000/8000 [==============================] - 1s 137us/step - loss: 0.3992 - acc: 0.8350\n",
            "Epoch 58/100\n",
            "8000/8000 [==============================] - 1s 128us/step - loss: 0.3991 - acc: 0.8360\n",
            "Epoch 59/100\n",
            "8000/8000 [==============================] - 1s 127us/step - loss: 0.3994 - acc: 0.8347\n",
            "Epoch 60/100\n",
            "8000/8000 [==============================] - 1s 124us/step - loss: 0.3992 - acc: 0.8354\n",
            "Epoch 61/100\n",
            "8000/8000 [==============================] - 1s 136us/step - loss: 0.3998 - acc: 0.8354\n",
            "Epoch 62/100\n",
            "8000/8000 [==============================] - 1s 140us/step - loss: 0.3994 - acc: 0.8345\n",
            "Epoch 63/100\n",
            "8000/8000 [==============================] - 1s 136us/step - loss: 0.3996 - acc: 0.8352\n",
            "Epoch 64/100\n",
            "8000/8000 [==============================] - 1s 128us/step - loss: 0.3989 - acc: 0.8344\n",
            "Epoch 65/100\n",
            "8000/8000 [==============================] - 1s 137us/step - loss: 0.3992 - acc: 0.8351\n",
            "Epoch 66/100\n",
            "8000/8000 [==============================] - 1s 136us/step - loss: 0.3993 - acc: 0.8351\n",
            "Epoch 67/100\n",
            "8000/8000 [==============================] - 1s 122us/step - loss: 0.3993 - acc: 0.8350\n",
            "Epoch 68/100\n",
            "8000/8000 [==============================] - 1s 130us/step - loss: 0.3991 - acc: 0.8340\n",
            "Epoch 69/100\n",
            "8000/8000 [==============================] - 1s 125us/step - loss: 0.3997 - acc: 0.8359\n",
            "Epoch 70/100\n",
            "8000/8000 [==============================] - 1s 135us/step - loss: 0.3993 - acc: 0.8360\n",
            "Epoch 71/100\n",
            "8000/8000 [==============================] - 1s 124us/step - loss: 0.3992 - acc: 0.8356\n",
            "Epoch 72/100\n",
            "8000/8000 [==============================] - 1s 131us/step - loss: 0.3989 - acc: 0.8375\n",
            "Epoch 73/100\n",
            "8000/8000 [==============================] - 1s 125us/step - loss: 0.3995 - acc: 0.8354\n",
            "Epoch 74/100\n",
            "8000/8000 [==============================] - 1s 137us/step - loss: 0.3990 - acc: 0.8341\n",
            "Epoch 75/100\n",
            "8000/8000 [==============================] - 1s 134us/step - loss: 0.3994 - acc: 0.8350\n",
            "Epoch 76/100\n",
            "8000/8000 [==============================] - 1s 128us/step - loss: 0.3991 - acc: 0.8356\n",
            "Epoch 77/100\n",
            "8000/8000 [==============================] - 1s 127us/step - loss: 0.3997 - acc: 0.8357\n",
            "Epoch 78/100\n",
            "8000/8000 [==============================] - 1s 128us/step - loss: 0.3993 - acc: 0.8350\n",
            "Epoch 79/100\n",
            "8000/8000 [==============================] - 1s 122us/step - loss: 0.3991 - acc: 0.8342\n",
            "Epoch 80/100\n",
            "8000/8000 [==============================] - 1s 134us/step - loss: 0.3995 - acc: 0.8350\n",
            "Epoch 81/100\n",
            "8000/8000 [==============================] - 1s 134us/step - loss: 0.3990 - acc: 0.8365\n",
            "Epoch 82/100\n",
            "8000/8000 [==============================] - 1s 131us/step - loss: 0.3989 - acc: 0.8361\n",
            "Epoch 83/100\n",
            "8000/8000 [==============================] - 1s 141us/step - loss: 0.3986 - acc: 0.8347\n",
            "Epoch 84/100\n",
            "8000/8000 [==============================] - 1s 135us/step - loss: 0.3995 - acc: 0.8350\n",
            "Epoch 85/100\n",
            "8000/8000 [==============================] - 1s 128us/step - loss: 0.3993 - acc: 0.8349\n",
            "Epoch 86/100\n",
            "8000/8000 [==============================] - 1s 136us/step - loss: 0.3996 - acc: 0.8352\n",
            "Epoch 87/100\n",
            "8000/8000 [==============================] - 1s 136us/step - loss: 0.3994 - acc: 0.8344\n",
            "Epoch 88/100\n",
            "8000/8000 [==============================] - 1s 136us/step - loss: 0.3991 - acc: 0.8354\n",
            "Epoch 89/100\n",
            "8000/8000 [==============================] - 1s 137us/step - loss: 0.3993 - acc: 0.8362\n",
            "Epoch 90/100\n",
            "8000/8000 [==============================] - 1s 138us/step - loss: 0.3995 - acc: 0.8359\n",
            "Epoch 91/100\n",
            "8000/8000 [==============================] - 1s 137us/step - loss: 0.3993 - acc: 0.8351\n",
            "Epoch 92/100\n",
            "8000/8000 [==============================] - 1s 136us/step - loss: 0.3994 - acc: 0.8350\n",
            "Epoch 93/100\n",
            "8000/8000 [==============================] - 1s 137us/step - loss: 0.3994 - acc: 0.8350\n",
            "Epoch 94/100\n",
            "8000/8000 [==============================] - 1s 137us/step - loss: 0.3991 - acc: 0.8334\n",
            "Epoch 95/100\n",
            "8000/8000 [==============================] - 1s 135us/step - loss: 0.3991 - acc: 0.8349\n",
            "Epoch 96/100\n",
            "8000/8000 [==============================] - 1s 137us/step - loss: 0.3995 - acc: 0.8356\n",
            "Epoch 97/100\n",
            "8000/8000 [==============================] - 1s 123us/step - loss: 0.3995 - acc: 0.8352\n",
            "Epoch 98/100\n",
            "8000/8000 [==============================] - 1s 134us/step - loss: 0.3992 - acc: 0.8354\n",
            "Epoch 99/100\n",
            "8000/8000 [==============================] - 1s 138us/step - loss: 0.3993 - acc: 0.8345\n",
            "Epoch 100/100\n",
            "8000/8000 [==============================] - 1s 137us/step - loss: 0.3993 - acc: 0.8352\n"
          ],
          "name": "stdout"
        },
        {
          "output_type": "execute_result",
          "data": {
            "text/plain": [
              "<keras.callbacks.History at 0x7fe732297a58>"
            ]
          },
          "metadata": {
            "tags": []
          },
          "execution_count": 33
        }
      ]
    },
    {
      "cell_type": "code",
      "metadata": {
        "id": "zAyUd73OMm-h",
        "colab_type": "code",
        "colab": {}
      },
      "source": [
        "# Predicting the Test set results\n",
        "y_pred = classifier.predict(X_test)\n",
        "y_pred = (y_pred > 0.5)"
      ],
      "execution_count": 0,
      "outputs": []
    },
    {
      "cell_type": "code",
      "metadata": {
        "id": "yiFgDTtUMtnh",
        "colab_type": "code",
        "colab": {}
      },
      "source": [
        "# Making the Confusion Matrix\n",
        "from sklearn.metrics import confusion_matrix\n",
        "cm = confusion_matrix(y_test, y_pred)"
      ],
      "execution_count": 0,
      "outputs": []
    },
    {
      "cell_type": "code",
      "metadata": {
        "id": "C7Wb_W7RNEIW",
        "colab_type": "code",
        "colab": {
          "base_uri": "https://localhost:8080/",
          "height": 50
        },
        "outputId": "92239d75-8664-4581-a9c2-1ea11d1134dc"
      },
      "source": [
        "cm"
      ],
      "execution_count": 36,
      "outputs": [
        {
          "output_type": "execute_result",
          "data": {
            "text/plain": [
              "array([[1552,   43],\n",
              "       [ 275,  130]])"
            ]
          },
          "metadata": {
            "tags": []
          },
          "execution_count": 36
        }
      ]
    },
    {
      "cell_type": "code",
      "metadata": {
        "id": "wD003riYNL8l",
        "colab_type": "code",
        "colab": {}
      },
      "source": [
        ""
      ],
      "execution_count": 0,
      "outputs": []
    }
  ]
}